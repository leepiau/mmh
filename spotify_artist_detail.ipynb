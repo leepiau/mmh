{
 "cells": [
  {
   "cell_type": "code",
   "execution_count": null,
   "id": "866a6d4e",
   "metadata": {},
   "outputs": [],
   "source": [
    "!pip install requests"
   ]
  },
  {
   "cell_type": "code",
   "execution_count": 2,
   "id": "0327bb8a",
   "metadata": {},
   "outputs": [],
   "source": [
    "import requests"
   ]
  },
  {
   "cell_type": "code",
   "execution_count": 3,
   "id": "a6c4ac83",
   "metadata": {},
   "outputs": [],
   "source": [
    "# Define the API endpoint\n",
    "url = \"https://accounts.spotify.com/api/token\""
   ]
  },
  {
   "cell_type": "code",
   "execution_count": 6,
   "id": "9464d174",
   "metadata": {},
   "outputs": [],
   "source": [
    "# Define the payload data\n",
    "data = {\n",
    "    \"grant_type\": \"client_credentials\",\n",
    "    \"client_id\": \"your_client_id\",\n",
    "    \"client_secret\": \"your_client_secret\"\n",
    "}"
   ]
  },
  {
   "cell_type": "code",
   "execution_count": null,
   "id": "cee4d893",
   "metadata": {},
   "outputs": [],
   "source": [
    "# Make a POST request\n",
    "response = requests.post(url, data=data)\n",
    "\n",
    "# Print the response content\n",
    "print(response.content.decode(\"utf-8\"))"
   ]
  },
  {
   "cell_type": "code",
   "execution_count": 8,
   "id": "578c72a9",
   "metadata": {},
   "outputs": [],
   "source": [
    "# Define the API endpoint\n",
    "url = \"https://api.spotify.com/v1/artists/4Z8W4fKeB5YxbusRsdQVPb\""
   ]
  },
  {
   "cell_type": "code",
   "execution_count": 10,
   "id": "dde0ec89",
   "metadata": {},
   "outputs": [],
   "source": [
    "# Define the authorization header\n",
    "headers = {\n",
    "    \"Authorization\": \"Bearer your_access_token\"\n",
    "}"
   ]
  },
  {
   "cell_type": "code",
   "execution_count": null,
   "id": "9caef143",
   "metadata": {},
   "outputs": [],
   "source": [
    "# Make a GET request\n",
    "response = requests.get(url, headers=headers)\n",
    "\n",
    "# Print the response content\n",
    "print(response.content.decode(\"utf-8\"))"
   ]
  },
  {
   "cell_type": "code",
   "execution_count": null,
   "id": "82986ea7",
   "metadata": {},
   "outputs": [],
   "source": []
  }
 ],
 "metadata": {
  "kernelspec": {
   "display_name": "Python 3 (ipykernel)",
   "language": "python",
   "name": "python3"
  },
  "language_info": {
   "codemirror_mode": {
    "name": "ipython",
    "version": 3
   },
   "file_extension": ".py",
   "mimetype": "text/x-python",
   "name": "python",
   "nbconvert_exporter": "python",
   "pygments_lexer": "ipython3",
   "version": "3.11.5"
  }
 },
 "nbformat": 4,
 "nbformat_minor": 5
}
