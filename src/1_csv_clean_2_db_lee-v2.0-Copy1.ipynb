{
 "cells": [
  {
   "cell_type": "markdown",
   "id": "18d01e48",
   "metadata": {},
   "source": [
    "# Import libraries"
   ]
  },
  {
   "cell_type": "code",
   "execution_count": 29,
   "id": "45b254b6",
   "metadata": {},
   "outputs": [],
   "source": [
    "# import libraries\n",
    "import os\n",
    "import pandas as pd\n",
    "import numpy as np\n",
    "import matplotlib.pyplot as plt\n",
    "import seaborn as sns\n",
    "import sqlalchemy as db\n",
    "from dotenv import load_dotenv"
   ]
  },
  {
   "cell_type": "code",
   "execution_count": 32,
   "id": "27b7e3b1",
   "metadata": {},
   "outputs": [],
   "source": [
    "# Load environment variables from .env file\n",
    "load_dotenv()\n",
    "\n",
    "# Access environment variables\n",
    "survey_results_csv=os.environ.get('survey_results_csv')\n",
    "db_elephant=os.environ.get('db_elephant')"
   ]
  },
  {
   "cell_type": "markdown",
   "id": "894215fa",
   "metadata": {},
   "source": [
    "# Import file and clean data"
   ]
  },
  {
   "cell_type": "code",
   "execution_count": 33,
   "id": "2b080095",
   "metadata": {},
   "outputs": [
    {
     "ename": "ValueError",
     "evalue": "Invalid file path or buffer object type: <class 'NoneType'>",
     "output_type": "error",
     "traceback": [
      "\u001b[1;31m---------------------------------------------------------------------------\u001b[0m",
      "\u001b[1;31mValueError\u001b[0m                                Traceback (most recent call last)",
      "Cell \u001b[1;32mIn[33], line 2\u001b[0m\n\u001b[0;32m      1\u001b[0m \u001b[38;5;66;03m# create a dataframe from csv file (Note: get 'raw' file)\u001b[39;00m\n\u001b[1;32m----> 2\u001b[0m df \u001b[38;5;241m=\u001b[39m pd\u001b[38;5;241m.\u001b[39mread_csv(survey_results_csv)\n",
      "File \u001b[1;32mC:\\ProgramData\\anaconda3\\Lib\\site-packages\\pandas\\io\\parsers\\readers.py:912\u001b[0m, in \u001b[0;36mread_csv\u001b[1;34m(filepath_or_buffer, sep, delimiter, header, names, index_col, usecols, dtype, engine, converters, true_values, false_values, skipinitialspace, skiprows, skipfooter, nrows, na_values, keep_default_na, na_filter, verbose, skip_blank_lines, parse_dates, infer_datetime_format, keep_date_col, date_parser, date_format, dayfirst, cache_dates, iterator, chunksize, compression, thousands, decimal, lineterminator, quotechar, quoting, doublequote, escapechar, comment, encoding, encoding_errors, dialect, on_bad_lines, delim_whitespace, low_memory, memory_map, float_precision, storage_options, dtype_backend)\u001b[0m\n\u001b[0;32m    899\u001b[0m kwds_defaults \u001b[38;5;241m=\u001b[39m _refine_defaults_read(\n\u001b[0;32m    900\u001b[0m     dialect,\n\u001b[0;32m    901\u001b[0m     delimiter,\n\u001b[1;32m   (...)\u001b[0m\n\u001b[0;32m    908\u001b[0m     dtype_backend\u001b[38;5;241m=\u001b[39mdtype_backend,\n\u001b[0;32m    909\u001b[0m )\n\u001b[0;32m    910\u001b[0m kwds\u001b[38;5;241m.\u001b[39mupdate(kwds_defaults)\n\u001b[1;32m--> 912\u001b[0m \u001b[38;5;28;01mreturn\u001b[39;00m _read(filepath_or_buffer, kwds)\n",
      "File \u001b[1;32mC:\\ProgramData\\anaconda3\\Lib\\site-packages\\pandas\\io\\parsers\\readers.py:577\u001b[0m, in \u001b[0;36m_read\u001b[1;34m(filepath_or_buffer, kwds)\u001b[0m\n\u001b[0;32m    574\u001b[0m _validate_names(kwds\u001b[38;5;241m.\u001b[39mget(\u001b[38;5;124m\"\u001b[39m\u001b[38;5;124mnames\u001b[39m\u001b[38;5;124m\"\u001b[39m, \u001b[38;5;28;01mNone\u001b[39;00m))\n\u001b[0;32m    576\u001b[0m \u001b[38;5;66;03m# Create the parser.\u001b[39;00m\n\u001b[1;32m--> 577\u001b[0m parser \u001b[38;5;241m=\u001b[39m TextFileReader(filepath_or_buffer, \u001b[38;5;241m*\u001b[39m\u001b[38;5;241m*\u001b[39mkwds)\n\u001b[0;32m    579\u001b[0m \u001b[38;5;28;01mif\u001b[39;00m chunksize \u001b[38;5;129;01mor\u001b[39;00m iterator:\n\u001b[0;32m    580\u001b[0m     \u001b[38;5;28;01mreturn\u001b[39;00m parser\n",
      "File \u001b[1;32mC:\\ProgramData\\anaconda3\\Lib\\site-packages\\pandas\\io\\parsers\\readers.py:1407\u001b[0m, in \u001b[0;36mTextFileReader.__init__\u001b[1;34m(self, f, engine, **kwds)\u001b[0m\n\u001b[0;32m   1404\u001b[0m     \u001b[38;5;28mself\u001b[39m\u001b[38;5;241m.\u001b[39moptions[\u001b[38;5;124m\"\u001b[39m\u001b[38;5;124mhas_index_names\u001b[39m\u001b[38;5;124m\"\u001b[39m] \u001b[38;5;241m=\u001b[39m kwds[\u001b[38;5;124m\"\u001b[39m\u001b[38;5;124mhas_index_names\u001b[39m\u001b[38;5;124m\"\u001b[39m]\n\u001b[0;32m   1406\u001b[0m \u001b[38;5;28mself\u001b[39m\u001b[38;5;241m.\u001b[39mhandles: IOHandles \u001b[38;5;241m|\u001b[39m \u001b[38;5;28;01mNone\u001b[39;00m \u001b[38;5;241m=\u001b[39m \u001b[38;5;28;01mNone\u001b[39;00m\n\u001b[1;32m-> 1407\u001b[0m \u001b[38;5;28mself\u001b[39m\u001b[38;5;241m.\u001b[39m_engine \u001b[38;5;241m=\u001b[39m \u001b[38;5;28mself\u001b[39m\u001b[38;5;241m.\u001b[39m_make_engine(f, \u001b[38;5;28mself\u001b[39m\u001b[38;5;241m.\u001b[39mengine)\n",
      "File \u001b[1;32mC:\\ProgramData\\anaconda3\\Lib\\site-packages\\pandas\\io\\parsers\\readers.py:1661\u001b[0m, in \u001b[0;36mTextFileReader._make_engine\u001b[1;34m(self, f, engine)\u001b[0m\n\u001b[0;32m   1659\u001b[0m     \u001b[38;5;28;01mif\u001b[39;00m \u001b[38;5;124m\"\u001b[39m\u001b[38;5;124mb\u001b[39m\u001b[38;5;124m\"\u001b[39m \u001b[38;5;129;01mnot\u001b[39;00m \u001b[38;5;129;01min\u001b[39;00m mode:\n\u001b[0;32m   1660\u001b[0m         mode \u001b[38;5;241m+\u001b[39m\u001b[38;5;241m=\u001b[39m \u001b[38;5;124m\"\u001b[39m\u001b[38;5;124mb\u001b[39m\u001b[38;5;124m\"\u001b[39m\n\u001b[1;32m-> 1661\u001b[0m \u001b[38;5;28mself\u001b[39m\u001b[38;5;241m.\u001b[39mhandles \u001b[38;5;241m=\u001b[39m get_handle(\n\u001b[0;32m   1662\u001b[0m     f,\n\u001b[0;32m   1663\u001b[0m     mode,\n\u001b[0;32m   1664\u001b[0m     encoding\u001b[38;5;241m=\u001b[39m\u001b[38;5;28mself\u001b[39m\u001b[38;5;241m.\u001b[39moptions\u001b[38;5;241m.\u001b[39mget(\u001b[38;5;124m\"\u001b[39m\u001b[38;5;124mencoding\u001b[39m\u001b[38;5;124m\"\u001b[39m, \u001b[38;5;28;01mNone\u001b[39;00m),\n\u001b[0;32m   1665\u001b[0m     compression\u001b[38;5;241m=\u001b[39m\u001b[38;5;28mself\u001b[39m\u001b[38;5;241m.\u001b[39moptions\u001b[38;5;241m.\u001b[39mget(\u001b[38;5;124m\"\u001b[39m\u001b[38;5;124mcompression\u001b[39m\u001b[38;5;124m\"\u001b[39m, \u001b[38;5;28;01mNone\u001b[39;00m),\n\u001b[0;32m   1666\u001b[0m     memory_map\u001b[38;5;241m=\u001b[39m\u001b[38;5;28mself\u001b[39m\u001b[38;5;241m.\u001b[39moptions\u001b[38;5;241m.\u001b[39mget(\u001b[38;5;124m\"\u001b[39m\u001b[38;5;124mmemory_map\u001b[39m\u001b[38;5;124m\"\u001b[39m, \u001b[38;5;28;01mFalse\u001b[39;00m),\n\u001b[0;32m   1667\u001b[0m     is_text\u001b[38;5;241m=\u001b[39mis_text,\n\u001b[0;32m   1668\u001b[0m     errors\u001b[38;5;241m=\u001b[39m\u001b[38;5;28mself\u001b[39m\u001b[38;5;241m.\u001b[39moptions\u001b[38;5;241m.\u001b[39mget(\u001b[38;5;124m\"\u001b[39m\u001b[38;5;124mencoding_errors\u001b[39m\u001b[38;5;124m\"\u001b[39m, \u001b[38;5;124m\"\u001b[39m\u001b[38;5;124mstrict\u001b[39m\u001b[38;5;124m\"\u001b[39m),\n\u001b[0;32m   1669\u001b[0m     storage_options\u001b[38;5;241m=\u001b[39m\u001b[38;5;28mself\u001b[39m\u001b[38;5;241m.\u001b[39moptions\u001b[38;5;241m.\u001b[39mget(\u001b[38;5;124m\"\u001b[39m\u001b[38;5;124mstorage_options\u001b[39m\u001b[38;5;124m\"\u001b[39m, \u001b[38;5;28;01mNone\u001b[39;00m),\n\u001b[0;32m   1670\u001b[0m )\n\u001b[0;32m   1671\u001b[0m \u001b[38;5;28;01massert\u001b[39;00m \u001b[38;5;28mself\u001b[39m\u001b[38;5;241m.\u001b[39mhandles \u001b[38;5;129;01mis\u001b[39;00m \u001b[38;5;129;01mnot\u001b[39;00m \u001b[38;5;28;01mNone\u001b[39;00m\n\u001b[0;32m   1672\u001b[0m f \u001b[38;5;241m=\u001b[39m \u001b[38;5;28mself\u001b[39m\u001b[38;5;241m.\u001b[39mhandles\u001b[38;5;241m.\u001b[39mhandle\n",
      "File \u001b[1;32mC:\\ProgramData\\anaconda3\\Lib\\site-packages\\pandas\\io\\common.py:716\u001b[0m, in \u001b[0;36mget_handle\u001b[1;34m(path_or_buf, mode, encoding, compression, memory_map, is_text, errors, storage_options)\u001b[0m\n\u001b[0;32m    713\u001b[0m     codecs\u001b[38;5;241m.\u001b[39mlookup_error(errors)\n\u001b[0;32m    715\u001b[0m \u001b[38;5;66;03m# open URLs\u001b[39;00m\n\u001b[1;32m--> 716\u001b[0m ioargs \u001b[38;5;241m=\u001b[39m _get_filepath_or_buffer(\n\u001b[0;32m    717\u001b[0m     path_or_buf,\n\u001b[0;32m    718\u001b[0m     encoding\u001b[38;5;241m=\u001b[39mencoding,\n\u001b[0;32m    719\u001b[0m     compression\u001b[38;5;241m=\u001b[39mcompression,\n\u001b[0;32m    720\u001b[0m     mode\u001b[38;5;241m=\u001b[39mmode,\n\u001b[0;32m    721\u001b[0m     storage_options\u001b[38;5;241m=\u001b[39mstorage_options,\n\u001b[0;32m    722\u001b[0m )\n\u001b[0;32m    724\u001b[0m handle \u001b[38;5;241m=\u001b[39m ioargs\u001b[38;5;241m.\u001b[39mfilepath_or_buffer\n\u001b[0;32m    725\u001b[0m handles: \u001b[38;5;28mlist\u001b[39m[BaseBuffer]\n",
      "File \u001b[1;32mC:\\ProgramData\\anaconda3\\Lib\\site-packages\\pandas\\io\\common.py:456\u001b[0m, in \u001b[0;36m_get_filepath_or_buffer\u001b[1;34m(filepath_or_buffer, encoding, compression, mode, storage_options)\u001b[0m\n\u001b[0;32m    452\u001b[0m \u001b[38;5;28;01mif\u001b[39;00m \u001b[38;5;129;01mnot\u001b[39;00m (\n\u001b[0;32m    453\u001b[0m     \u001b[38;5;28mhasattr\u001b[39m(filepath_or_buffer, \u001b[38;5;124m\"\u001b[39m\u001b[38;5;124mread\u001b[39m\u001b[38;5;124m\"\u001b[39m) \u001b[38;5;129;01mor\u001b[39;00m \u001b[38;5;28mhasattr\u001b[39m(filepath_or_buffer, \u001b[38;5;124m\"\u001b[39m\u001b[38;5;124mwrite\u001b[39m\u001b[38;5;124m\"\u001b[39m)\n\u001b[0;32m    454\u001b[0m ):\n\u001b[0;32m    455\u001b[0m     msg \u001b[38;5;241m=\u001b[39m \u001b[38;5;124mf\u001b[39m\u001b[38;5;124m\"\u001b[39m\u001b[38;5;124mInvalid file path or buffer object type: \u001b[39m\u001b[38;5;132;01m{\u001b[39;00m\u001b[38;5;28mtype\u001b[39m(filepath_or_buffer)\u001b[38;5;132;01m}\u001b[39;00m\u001b[38;5;124m\"\u001b[39m\n\u001b[1;32m--> 456\u001b[0m     \u001b[38;5;28;01mraise\u001b[39;00m \u001b[38;5;167;01mValueError\u001b[39;00m(msg)\n\u001b[0;32m    458\u001b[0m \u001b[38;5;28;01mreturn\u001b[39;00m IOArgs(\n\u001b[0;32m    459\u001b[0m     filepath_or_buffer\u001b[38;5;241m=\u001b[39mfilepath_or_buffer,\n\u001b[0;32m    460\u001b[0m     encoding\u001b[38;5;241m=\u001b[39mencoding,\n\u001b[1;32m   (...)\u001b[0m\n\u001b[0;32m    463\u001b[0m     mode\u001b[38;5;241m=\u001b[39mmode,\n\u001b[0;32m    464\u001b[0m )\n",
      "\u001b[1;31mValueError\u001b[0m: Invalid file path or buffer object type: <class 'NoneType'>"
     ]
    }
   ],
   "source": [
    "# create a dataframe from csv file (Note: get 'raw' file)\n",
    "df = pd.read_csv(survey_results_csv)"
   ]
  },
  {
   "cell_type": "code",
   "execution_count": 6,
   "id": "3084cfa5",
   "metadata": {},
   "outputs": [
    {
     "name": "stdout",
     "output_type": "stream",
     "text": [
      "(736, 33)\n"
     ]
    }
   ],
   "source": [
    "# take a look at contents\n",
    "print(df.shape)"
   ]
  },
  {
   "cell_type": "code",
   "execution_count": 4,
   "id": "9d3d8ec6",
   "metadata": {},
   "outputs": [
    {
     "name": "stdout",
     "output_type": "stream",
     "text": [
      "<bound method DataFrame.info of                Timestamp   Age Primary streaming service  Hours per day  \\\n",
      "0     8/27/2022 19:29:02  18.0                   Spotify            3.0   \n",
      "1     8/27/2022 19:57:31  63.0                   Pandora            1.5   \n",
      "2     8/27/2022 21:28:18  18.0                   Spotify            4.0   \n",
      "3     8/27/2022 21:40:40  61.0             YouTube Music            2.5   \n",
      "4     8/27/2022 21:54:47  18.0                   Spotify            4.0   \n",
      "..                   ...   ...                       ...            ...   \n",
      "731  10/30/2022 14:37:28  17.0                   Spotify            2.0   \n",
      "732   11/1/2022 22:26:42  18.0                   Spotify            1.0   \n",
      "733   11/3/2022 23:24:38  19.0   Other streaming service            6.0   \n",
      "734   11/4/2022 17:31:47  19.0                   Spotify            5.0   \n",
      "735    11/9/2022 1:55:20  29.0             YouTube Music            2.0   \n",
      "\n",
      "    While working Instrumentalist Composer         Fav genre Exploratory  \\\n",
      "0             Yes             Yes      Yes             Latin         Yes   \n",
      "1             Yes              No       No              Rock         Yes   \n",
      "2              No              No       No  Video game music          No   \n",
      "3             Yes              No      Yes              Jazz         Yes   \n",
      "4             Yes              No       No               R&B         Yes   \n",
      "..            ...             ...      ...               ...         ...   \n",
      "731           Yes             Yes       No              Rock         Yes   \n",
      "732           Yes             Yes       No               Pop         Yes   \n",
      "733           Yes              No      Yes               Rap         Yes   \n",
      "734           Yes             Yes       No         Classical          No   \n",
      "735           Yes              No       No           Hip hop         Yes   \n",
      "\n",
      "    Foreign languages  ...  Frequency [R&B]  Frequency [Rap] Frequency [Rock]  \\\n",
      "0                 Yes  ...        Sometimes  Very frequently            Never   \n",
      "1                  No  ...        Sometimes           Rarely  Very frequently   \n",
      "2                 Yes  ...            Never           Rarely           Rarely   \n",
      "3                 Yes  ...        Sometimes            Never            Never   \n",
      "4                  No  ...  Very frequently  Very frequently            Never   \n",
      "..                ...  ...              ...              ...              ...   \n",
      "731               Yes  ...            Never           Rarely  Very frequently   \n",
      "732               Yes  ...            Never            Never        Sometimes   \n",
      "733                No  ...        Sometimes        Sometimes           Rarely   \n",
      "734                No  ...            Never            Never            Never   \n",
      "735               Yes  ...  Very frequently  Very frequently  Very frequently   \n",
      "\n",
      "    Frequency [Video game music] Anxiety Depression Insomnia  OCD  \\\n",
      "0                      Sometimes     3.0        0.0      1.0  0.0   \n",
      "1                         Rarely     7.0        2.0      2.0  1.0   \n",
      "2                Very frequently     7.0        7.0     10.0  2.0   \n",
      "3                          Never     9.0        7.0      3.0  3.0   \n",
      "4                         Rarely     7.0        2.0      5.0  9.0   \n",
      "..                           ...     ...        ...      ...  ...   \n",
      "731                        Never     7.0        6.0      0.0  9.0   \n",
      "732                    Sometimes     3.0        2.0      2.0  5.0   \n",
      "733                       Rarely     2.0        2.0      2.0  2.0   \n",
      "734                    Sometimes     2.0        3.0      2.0  1.0   \n",
      "735                       Rarely     2.0        2.0      2.0  5.0   \n",
      "\n",
      "    Music effects    Permissions  \n",
      "0             NaN  I understand.  \n",
      "1             NaN  I understand.  \n",
      "2       No effect  I understand.  \n",
      "3         Improve  I understand.  \n",
      "4         Improve  I understand.  \n",
      "..            ...            ...  \n",
      "731       Improve  I understand.  \n",
      "732       Improve  I understand.  \n",
      "733       Improve  I understand.  \n",
      "734       Improve  I understand.  \n",
      "735       Improve  I understand.  \n",
      "\n",
      "[736 rows x 33 columns]>\n"
     ]
    }
   ],
   "source": [
    "print(df.info)"
   ]
  },
  {
   "cell_type": "code",
   "execution_count": null,
   "id": "ed96a97a",
   "metadata": {},
   "outputs": [],
   "source": [
    "# make sure all columns are displayed\n",
    "pd.set_option('display.max_columns', None)\n",
    "\n",
    "# peek at df\n",
    "print(df.head())"
   ]
  },
  {
   "cell_type": "code",
   "execution_count": null,
   "id": "79741537",
   "metadata": {},
   "outputs": [],
   "source": [
    "# check 'Permissions' values. If only 1 unique value, drop the column\n",
    "print(df['Permissions'].unique())"
   ]
  },
  {
   "cell_type": "code",
   "execution_count": null,
   "id": "66640a2d",
   "metadata": {
    "scrolled": true
   },
   "outputs": [],
   "source": [
    "# check % of nulls in each column\n",
    "total_nulls = df.isnull().sum()\n",
    "print(total_nulls)\n",
    "# percent_missing = total_nulls * 100 / len(df)\n",
    "# print(percent_missing)"
   ]
  },
  {
   "cell_type": "code",
   "execution_count": null,
   "id": "b1c371f2",
   "metadata": {
    "scrolled": false
   },
   "outputs": [],
   "source": [
    "df.head()"
   ]
  },
  {
   "cell_type": "code",
   "execution_count": null,
   "id": "38d1c054",
   "metadata": {},
   "outputs": [],
   "source": [
    "# check the rows where 'Music Effects' is null to consider dropping the rows\n",
    "null_rows = df.loc[df['Music effects'].isnull()]\n",
    "print(null_rows)"
   ]
  },
  {
   "cell_type": "code",
   "execution_count": null,
   "id": "6d66f23d",
   "metadata": {},
   "outputs": [],
   "source": [
    "# check for duplicated rows\n",
    "print(df[df.duplicated()])"
   ]
  },
  {
   "cell_type": "code",
   "execution_count": null,
   "id": "e6a5d5e1",
   "metadata": {},
   "outputs": [],
   "source": [
    "# decide to drop rows where 'Music effects' has null values\n",
    "df.dropna(subset=['Music effects'], inplace=True)\n",
    "\n",
    "# confirm the rows where 'Music effects' has null values have been dropped\n",
    "null_rows = df.loc[df['Music effects'].isnull()]\n",
    "print(null_rows)"
   ]
  },
  {
   "cell_type": "code",
   "execution_count": null,
   "id": "4f5809d8",
   "metadata": {},
   "outputs": [],
   "source": [
    "# decide to drop 'Timestamp' and 'Permissions' columns\n",
    "df.drop(columns=['Timestamp', 'Permissions'], inplace=True)\n",
    "print(df.head())"
   ]
  },
  {
   "cell_type": "code",
   "execution_count": null,
   "id": "fddea8b5",
   "metadata": {
    "scrolled": true
   },
   "outputs": [],
   "source": [
    "# reset the index if working on df\n",
    "df.reset_index(drop=True, inplace=True)"
   ]
  },
  {
   "cell_type": "code",
   "execution_count": null,
   "id": "38fc8072",
   "metadata": {
    "scrolled": true
   },
   "outputs": [],
   "source": [
    "print(df.head())"
   ]
  },
  {
   "cell_type": "code",
   "execution_count": null,
   "id": "a7fccca6",
   "metadata": {},
   "outputs": [],
   "source": [
    "print(df.dtypes)"
   ]
  },
  {
   "cell_type": "code",
   "execution_count": null,
   "id": "d2a51f1a",
   "metadata": {},
   "outputs": [],
   "source": [
    "# clean column names - change to lowercase, underscores\n",
    "# extract list of column names\n",
    "keys = list(df.columns)\n",
    "\n",
    "# Create a dictionary {old: new}. New has lowercase, underscores, no square brackets\n",
    "formatted_keys = {key: key.lower().replace(' ', '_').replace('[', '').replace(']', '').replace('&', '_n_') for key in keys}\n",
    "\n",
    "# Replace old column names with new ones\n",
    "df = df.rename(columns = formatted_keys)"
   ]
  },
  {
   "cell_type": "code",
   "execution_count": null,
   "id": "d039c002",
   "metadata": {},
   "outputs": [],
   "source": [
    "# add column 'age_group'\n",
    "age_group = pd.cut(df['age'],\n",
    "                         bins=[0, 18, 35, 60, 75, 100],\n",
    "                         labels=['early_years', 'young_adults', 'middle_age', 'mature_adults', 'elderly'], right = False)\n",
    "df.insert(1, 'age_group', age_group)"
   ]
  },
  {
   "cell_type": "code",
   "execution_count": null,
   "id": "836a9302",
   "metadata": {},
   "outputs": [],
   "source": [
    "print(df.head())"
   ]
  },
  {
   "cell_type": "code",
   "execution_count": null,
   "id": "247ae726",
   "metadata": {},
   "outputs": [],
   "source": [
    "# Change genre names to lower case and reflect Spotify values\n",
    "df['fav_genre'] = df['fav_genre'].str.lower().str.replace('&', '-n-').str.replace(' ', '-')"
   ]
  },
  {
   "cell_type": "code",
   "execution_count": null,
   "id": "e5faea15",
   "metadata": {},
   "outputs": [],
   "source": [
    "df['fav_genre'].unique()"
   ]
  },
  {
   "cell_type": "code",
   "execution_count": null,
   "id": "32aad9f2",
   "metadata": {},
   "outputs": [],
   "source": [
    "# Create a column with a count of occurrence of 'Very frequently' on each row\n",
    "df['count'] = df.apply(lambda row: row.str.contains('Very frequently').sum(), axis=1)"
   ]
  },
  {
   "cell_type": "code",
   "execution_count": null,
   "id": "67643eec",
   "metadata": {
    "scrolled": true
   },
   "outputs": [],
   "source": [
    "# Verify column is created\n",
    "df.head()"
   ]
  },
  {
   "cell_type": "code",
   "execution_count": null,
   "id": "60311e07",
   "metadata": {},
   "outputs": [],
   "source": [
    "# Get a sense of the frequency where respondents listed more than 1 genre 'Very frequently'\n",
    "df['count'].plot(bins=[1, 2, 3, 4, 5, 6, 7, 8, 9, 10], kind='hist', edgecolor='black')\n",
    "plt.title('Frequency of \"Very frequently\"')\n",
    "plt.xlabel('Count of \"Very frequently\"')\n",
    "plt.ylabel('Frequency')\n",
    "plt.show()"
   ]
  },
  {
   "cell_type": "code",
   "execution_count": null,
   "id": "e97a67d1",
   "metadata": {},
   "outputs": [],
   "source": [
    "# Decide to create 3 new cols per row and populate with the genres consumed 'Very frequently'\n",
    "def find_frequencies(row):\n",
    "    frequencies = [col for col in df.columns if row[col] == 'Very frequently']\n",
    "    return pd.Series(frequencies + [None]*3)[:3]\n",
    "\n",
    "# Apply the function to the DataFrame\n",
    "df[['freq1', 'freq2', 'freq3']] = df.apply(find_frequencies, axis=1)"
   ]
  },
  {
   "cell_type": "code",
   "execution_count": null,
   "id": "4d1a0054",
   "metadata": {
    "scrolled": true
   },
   "outputs": [],
   "source": [
    "# Verify cols created\n",
    "df.head()"
   ]
  },
  {
   "cell_type": "code",
   "execution_count": null,
   "id": "be8582ae",
   "metadata": {},
   "outputs": [],
   "source": [
    "print(df['freq1'].unique())"
   ]
  },
  {
   "cell_type": "code",
   "execution_count": null,
   "id": "5e6e7ee9",
   "metadata": {},
   "outputs": [],
   "source": [
    "# Change genre values in freq1-3 to reflect Spotify values\n",
    "for i in range(1,4):\n",
    "    df[f'freq{i}'] = df[f'freq{i}'].str.replace('frequency_', '').str.replace('_', '-')"
   ]
  },
  {
   "cell_type": "code",
   "execution_count": null,
   "id": "eff1594a",
   "metadata": {},
   "outputs": [],
   "source": [
    "print(df['freq3'].unique())"
   ]
  },
  {
   "cell_type": "code",
   "execution_count": null,
   "id": "98b34dc2",
   "metadata": {
    "scrolled": true
   },
   "outputs": [],
   "source": [
    "# Check for nulls in freq1\n",
    "check_nulls = df['freq1'].isnull().sum()\n",
    "print(check_nulls)"
   ]
  },
  {
   "cell_type": "code",
   "execution_count": null,
   "id": "13115f55",
   "metadata": {},
   "outputs": [],
   "source": [
    "# Replace nulls in freq1 with value from fav_genre\n",
    "df['freq1'] = df['freq1'].fillna(df['fav_genre'])"
   ]
  },
  {
   "cell_type": "code",
   "execution_count": null,
   "id": "55624cb0",
   "metadata": {},
   "outputs": [],
   "source": [
    "# Check for nulls in freq1 after replacement\n",
    "check_nulls = df['freq1'].isnull().sum()\n",
    "print(check_nulls)"
   ]
  },
  {
   "cell_type": "code",
   "execution_count": null,
   "id": "1d7e1b78",
   "metadata": {},
   "outputs": [],
   "source": [
    "# Add new column 'respondent' to be Primary Key in DB table\n",
    "df.insert(0, 'respondent', range(101, 101 + len(df)))"
   ]
  },
  {
   "cell_type": "code",
   "execution_count": null,
   "id": "3619c3e6",
   "metadata": {},
   "outputs": [],
   "source": [
    "df.head()"
   ]
  },
  {
   "cell_type": "code",
   "execution_count": null,
   "id": "3f805304",
   "metadata": {},
   "outputs": [],
   "source": [
    "list(df.columns)"
   ]
  },
  {
   "cell_type": "code",
   "execution_count": null,
   "id": "f1045381",
   "metadata": {},
   "outputs": [],
   "source": [
    "# Copy freq* cols to another df as backup\n",
    "df_freq = df[['respondent',\n",
    " 'frequency_classical',\n",
    " 'frequency_country',\n",
    " 'frequency_edm',\n",
    " 'frequency_folk',\n",
    " 'frequency_gospel',\n",
    " 'frequency_hip_hop',\n",
    " 'frequency_jazz',\n",
    " 'frequency_k_pop',\n",
    " 'frequency_latin',\n",
    " 'frequency_lofi',\n",
    " 'frequency_metal',\n",
    " 'frequency_pop',\n",
    " 'frequency_r_n_b',\n",
    " 'frequency_rap',\n",
    " 'frequency_rock',\n",
    " 'frequency_video_game_music']].copy()"
   ]
  },
  {
   "cell_type": "code",
   "execution_count": null,
   "id": "1888442f",
   "metadata": {
    "scrolled": true
   },
   "outputs": [],
   "source": [
    "df_freq.shape"
   ]
  },
  {
   "cell_type": "code",
   "execution_count": null,
   "id": "ba83cf25",
   "metadata": {},
   "outputs": [],
   "source": [
    "df_freq.head()"
   ]
  },
  {
   "cell_type": "code",
   "execution_count": null,
   "id": "72e842a0",
   "metadata": {},
   "outputs": [],
   "source": [
    "# Remove un-necessary cols from original df\n",
    "df = df.drop(['count', 'frequency_classical',\n",
    " 'frequency_country',\n",
    " 'frequency_edm',\n",
    " 'frequency_folk',\n",
    " 'frequency_gospel',\n",
    " 'frequency_hip_hop',\n",
    " 'frequency_jazz',\n",
    " 'frequency_k_pop',\n",
    " 'frequency_latin',\n",
    " 'frequency_lofi',\n",
    " 'frequency_metal',\n",
    " 'frequency_pop',\n",
    " 'frequency_r_n_b',\n",
    " 'frequency_rap',\n",
    " 'frequency_rock',\n",
    " 'frequency_video_game_music'], axis=1)"
   ]
  },
  {
   "cell_type": "code",
   "execution_count": null,
   "id": "d190e670",
   "metadata": {
    "scrolled": true
   },
   "outputs": [],
   "source": [
    "print(df.shape)"
   ]
  },
  {
   "cell_type": "code",
   "execution_count": null,
   "id": "62ed7959",
   "metadata": {
    "scrolled": true
   },
   "outputs": [],
   "source": [
    "df.head()"
   ]
  },
  {
   "cell_type": "code",
   "execution_count": null,
   "id": "4e5d61b7",
   "metadata": {},
   "outputs": [],
   "source": [
    "list(df.columns)"
   ]
  },
  {
   "cell_type": "markdown",
   "id": "52b907f5",
   "metadata": {},
   "source": [
    "# Exploratory Data Analysis"
   ]
  },
  {
   "cell_type": "code",
   "execution_count": null,
   "id": "0ec64a16",
   "metadata": {},
   "outputs": [],
   "source": [
    "# Does music have an effect on mood?\n",
    "sections = df['music_effects'].value_counts()\n",
    "labels = sections.index.to_list()\n",
    "plt.figure(figsize=(5,5))\n",
    "plt.pie(sections, labels=labels,autopct='%.1f%%',shadow=True, pctdistance=0.8)\n",
    "plt.title('Music effects', fontsize=16)\n",
    "plt.legend(title='Music effects',loc='upper left', bbox_to_anchor=(1, 1))\n",
    "plt.show()"
   ]
  },
  {
   "cell_type": "code",
   "execution_count": null,
   "id": "86bd16fb",
   "metadata": {},
   "outputs": [],
   "source": [
    "# Count of disorders\n",
    "\n",
    "# Create a dictionary to store the counts\n",
    "disorder_counts = {\n",
    "    'depression': {},\n",
    "    'anxiety': {},\n",
    "    'insomnia': {},\n",
    "    'ocd': {}\n",
    "}\n",
    "\n",
    "# Loop through the disorder columns\n",
    "for disorder in ['depression', 'anxiety', 'insomnia', 'ocd']:\n",
    "    # Get the value counts for the current disorder\n",
    "    value_counts = df[disorder].value_counts()\n",
    "\n",
    "    # Extract the counts for the desired categories\n",
    "    for level in range(11):\n",
    "        disorder_counts[disorder][level] = value_counts.get(level, 0)\n",
    "\n",
    "# Create a DataFrame from the dictionary\n",
    "df_disorder_counts = pd.DataFrame(disorder_counts)\n",
    "\n",
    "# Plot the bar chart for each disorder\n",
    "df_disorder_counts.plot(kind='bar')\n",
    "plt.title('Count of Disorder Levels')\n",
    "plt.xlabel('Disorder Level')\n",
    "plt.ylabel('Count')\n",
    "plt.legend(title='Disorder', loc='upper left', bbox_to_anchor=(1, 1))\n",
    "plt.show()"
   ]
  },
  {
   "cell_type": "code",
   "execution_count": null,
   "id": "b471709d",
   "metadata": {},
   "outputs": [],
   "source": [
    "# Age anaylsis\n",
    "labels = df['age'].value_counts().index.to_list()\n",
    "sections = df['age'].value_counts().to_numpy()\n",
    "plt.figure(figsize=(10, 7))\n",
    "plt.bar(labels, sections)\n",
    "plt.title('Age Distribution', fontsize=16)\n",
    "plt.xlabel('age', fontsize=12)\n",
    "plt.ylabel('count', fontsize=12)\n",
    "plt.show()"
   ]
  },
  {
   "cell_type": "code",
   "execution_count": null,
   "id": "0391d7f6",
   "metadata": {
    "scrolled": true
   },
   "outputs": [],
   "source": [
    "# Age group distribution\n",
    "age_group_counts = df['age_group'].value_counts()\n",
    "labels = age_group_counts.index.to_list()\n",
    "plt.figure(figsize=(5,5))\n",
    "plt.pie(age_group_counts, labels=labels,autopct='%.2f%%',shadow=True, pctdistance=0.6)\n",
    "plt.title('Distribution of Age Group', fontsize=16)\n",
    "plt.legend(title='Age Group', loc='upper left',bbox_to_anchor=(1,1))\n",
    "plt.show()"
   ]
  },
  {
   "cell_type": "code",
   "execution_count": null,
   "id": "784557ba",
   "metadata": {},
   "outputs": [],
   "source": [
    "# Distribution of Favourite Genre\n",
    "labels = df['fav_genre'].value_counts().index.to_list()\n",
    "sections = df['fav_genre'].value_counts().to_numpy()\n",
    "colors = sns.color_palette('husl', len(sections))\n",
    "plt.figure(figsize=(10,5))\n",
    "plt.bar(labels, sections, color=colors)\n",
    "plt.title('Favorite Genre', fontsize=16)\n",
    "plt.xlabel('Genre', fontsize=14)\n",
    "plt.ylabel('Count', fontsize=14)\n",
    "plt.xticks(rotation=90)\n",
    "plt.show()"
   ]
  },
  {
   "cell_type": "markdown",
   "id": "bc3c5363",
   "metadata": {},
   "source": [
    "# Connect to DB, create table and load data into DB"
   ]
  },
  {
   "cell_type": "code",
   "execution_count": null,
   "id": "a9c6d6c2",
   "metadata": {},
   "outputs": [],
   "source": [
    "# Connect to DB\n",
    "engine = db.create_engine(db_elephant) \n",
    "conn = engine.raw_connection()"
   ]
  },
  {
   "cell_type": "code",
   "execution_count": null,
   "id": "2cd25d81",
   "metadata": {},
   "outputs": [],
   "source": [
    "# Create new table 'survey' in PostgreSQL (Create only 1 column, to_sql seems to create other columns automatically)\n",
    "commands = ('''CREATE TABLE IF NOT EXISTS survey (\n",
    "    respondent INT PRIMARY KEY\n",
    ");''')\n",
    "            \n",
    "# Initialize connection to PostgreSQL\n",
    "cur = conn.cursor()\n",
    "\n",
    "# Create cursor to execute SQL commands\n",
    "#for command in commands:\n",
    "cur.execute(commands)\n",
    "\n",
    "# Commit changes\n",
    "conn.commit()"
   ]
  },
  {
   "cell_type": "code",
   "execution_count": null,
   "id": "4caac017",
   "metadata": {},
   "outputs": [],
   "source": [
    "# Copy data to table\n",
    "df.to_sql(name= 'survey', con = engine, if_exists= 'replace', index= False)"
   ]
  },
  {
   "cell_type": "code",
   "execution_count": null,
   "id": "73fee1d5",
   "metadata": {},
   "outputs": [],
   "source": [
    "# Create new table 'frequency' in PostgreSQL (Create only 1 column, to_sql seems to create other columns automatically)\n",
    "commands = ('''CREATE TABLE IF NOT EXISTS frequency (\n",
    "    respondent INT PRIMARY KEY\n",
    ");''')\n",
    "            \n",
    "# Initialize connection to PostgreSQL\n",
    "cur = conn.cursor()\n",
    "\n",
    "# Create cursor to execute SQL commands\n",
    "#for command in commands:\n",
    "cur.execute(commands)\n",
    "\n",
    "# Commit changes\n",
    "conn.commit()"
   ]
  },
  {
   "cell_type": "code",
   "execution_count": null,
   "id": "56456180",
   "metadata": {},
   "outputs": [],
   "source": [
    "# Copy data to table\n",
    "df_freq.to_sql(name= 'frequency', con = engine, if_exists= 'replace', index= False)"
   ]
  },
  {
   "cell_type": "code",
   "execution_count": null,
   "id": "87ae2a14",
   "metadata": {},
   "outputs": [],
   "source": [
    "# Close communication with server\n",
    "cur.close()\n",
    "conn.close()"
   ]
  }
 ],
 "metadata": {
  "kernelspec": {
   "display_name": "Python 3 (ipykernel)",
   "language": "python",
   "name": "python3"
  },
  "language_info": {
   "codemirror_mode": {
    "name": "ipython",
    "version": 3
   },
   "file_extension": ".py",
   "mimetype": "text/x-python",
   "name": "python",
   "nbconvert_exporter": "python",
   "pygments_lexer": "ipython3",
   "version": "3.11.5"
  }
 },
 "nbformat": 4,
 "nbformat_minor": 5
}
