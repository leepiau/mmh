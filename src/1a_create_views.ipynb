{
 "cells": [
  {
   "cell_type": "markdown",
   "id": "10793f98",
   "metadata": {},
   "source": [
    "# Create Views\n",
    "\n",
    "To facilitate ease of searching for songs to recommend users, we create views.\n",
    "\n",
    "Each view contains the most frequently listened-to genres for each age-group and mental-health condition pair, ranked in order of frequency.\n",
    "\n",
    "To recommend tracks to users, the (recommend_tracks) script will pick a track from the appropriate view."
   ]
  },
  {
   "cell_type": "markdown",
   "id": "a02a5dc0",
   "metadata": {},
   "source": [
    "### Import libraries"
   ]
  },
  {
   "cell_type": "code",
   "execution_count": 1,
   "id": "0bd06c3b",
   "metadata": {},
   "outputs": [],
   "source": [
    "import psycopg2\n",
    "import pandas as pd\n",
    "import time\n",
    "import os\n",
    "from dotenv import load_dotenv\n",
    "\n",
    "# Load environment variables from .env file\n",
    "load_dotenv()\n",
    "\n",
    "# Access environment variables\n",
    "db_elephant=os.environ.get('db_elephant')\n",
    "db_elephant_dbname=os.environ.get('db_elephant_dbname')\n",
    "db_elephant_dbuser=os.environ.get('db_elephant_dbuser')\n",
    "db_elephant_password=os.environ.get('db_elephant_password')"
   ]
  },
  {
   "cell_type": "markdown",
   "id": "535f8180",
   "metadata": {},
   "source": [
    "### Connect to DB"
   ]
  },
  {
   "cell_type": "code",
   "execution_count": 8,
   "id": "745eaef4",
   "metadata": {},
   "outputs": [],
   "source": [
    "# Connect to PostgreSQL database\n",
    "db_params = {\n",
    "    \"host\": \"rain.db.elephantsql.com\",\n",
    "    \"dbname\": db_elephant_dbname, \n",
    "    \"user\": db_elephant_dbuser, \n",
    "    \"password\": db_elephant_password\n",
    "}\n",
    "\n",
    "conn = psycopg2.connect(**db_params)\n",
    "cur = conn.cursor()"
   ]
  },
  {
   "cell_type": "markdown",
   "id": "08c1cc78",
   "metadata": {},
   "source": [
    "### Create Views - Ranked genre Per age_group Per condition "
   ]
  },
  {
   "cell_type": "code",
   "execution_count": 9,
   "id": "066f26b3",
   "metadata": {},
   "outputs": [
    {
     "name": "stdout",
     "output_type": "stream",
     "text": [
      "0.0\n"
     ]
    }
   ],
   "source": [
    "start = time.process_time()\n",
    "\n",
    "# Declare conditions\n",
    "conditions = ['anxiety', 'depression', 'insomnia', 'ocd']\n",
    "\n",
    "# Declare age_group\n",
    "groups = ['early_years', 'young_adults', 'mature_adults', 'middle_age', 'elderly']\n",
    "\n",
    "# Create Views for each condition and age_group, ranking genres\n",
    "for i in range(len(conditions)):\n",
    "    for n in range(len(groups)):\n",
    "        query = f\"\"\"\n",
    "            CREATE OR REPLACE VIEW {groups[n]}_{conditions[i]}_genre AS(\n",
    "                SELECT a.genre, COUNT(*),\n",
    "                  ROW_NUMBER() OVER(ORDER BY COUNT(*) DESC) AS row_n\n",
    "                FROM (\n",
    "                  SELECT s.id, g.*\n",
    "                  FROM music_survey s\n",
    "                  CROSS JOIN LATERAL (\n",
    "                     values (s.freq1, 'freq1'),\n",
    "                            (s.freq2, 'freq2'),\n",
    "                            (s.freq3, 'freq3')\n",
    "                        ) as g(genre, frequency)\n",
    "                WHERE s.{conditions[i]} >= 7\n",
    "                AND age_group = '{groups[n]}') AS a\n",
    "                WHERE a.genre IS NOT NULL\n",
    "                GROUP BY a.genre\n",
    "                )\n",
    "                \"\"\"\n",
    "        cur.execute(query,)\n",
    "        conn.commit()\n",
    "\n",
    "print(time.process_time() - start)"
   ]
  },
  {
   "cell_type": "markdown",
   "id": "f122a341",
   "metadata": {},
   "source": [
    "### Check Views Created"
   ]
  },
  {
   "cell_type": "code",
   "execution_count": 10,
   "id": "7fb355e9",
   "metadata": {},
   "outputs": [
    {
     "name": "stdout",
     "output_type": "stream",
     "text": [
      "('early_years_anxiety_genre',)\n",
      "('early_years_depression_genre',)\n",
      "('early_years_insomnia_genre',)\n",
      "('early_years_ocd_genre',)\n",
      "('elderly_anxiety_genre',)\n",
      "('elderly_depression_genre',)\n",
      "('elderly_insomnia_genre',)\n",
      "('elderly_ocd_genre',)\n",
      "('mature_adults_anxiety_genre',)\n",
      "('mature_adults_depression_genre',)\n",
      "('mature_adults_insomnia_genre',)\n",
      "('mature_adults_ocd_genre',)\n",
      "('middle_age_anxiety_genre',)\n",
      "('middle_age_depression_genre',)\n",
      "('middle_age_insomnia_genre',)\n",
      "('middle_age_ocd_genre',)\n",
      "('young_adults_anxiety_genre',)\n",
      "('young_adults_depression_genre',)\n",
      "('young_adults_insomnia_genre',)\n",
      "('young_adults_ocd_genre',)\n"
     ]
    }
   ],
   "source": [
    "# Check that views were created\n",
    "query = f\"\"\"\n",
    "            SELECT table_name\n",
    "            FROM information_schema.views\n",
    "            WHERE table_schema NOT IN ('pg_catalog', 'information_schema')\n",
    "            AND table_name !='pg_stat_statements'\n",
    "            ORDER BY table_name\n",
    "            \"\"\"\n",
    "cur.execute(query,)\n",
    "conn.commit()\n",
    "results = cur.fetchall()\n",
    "print(*results, sep='\\n')"
   ]
  },
  {
   "cell_type": "markdown",
   "id": "3ab547eb",
   "metadata": {},
   "source": [
    "# Close connection"
   ]
  },
  {
   "cell_type": "code",
   "execution_count": 11,
   "id": "14772e78",
   "metadata": {},
   "outputs": [],
   "source": [
    "# close connection to db\n",
    "conn.close()"
   ]
  }
 ],
 "metadata": {
  "kernelspec": {
   "display_name": "Python 3 (ipykernel)",
   "language": "python",
   "name": "python3"
  },
  "language_info": {
   "codemirror_mode": {
    "name": "ipython",
    "version": 3
   },
   "file_extension": ".py",
   "mimetype": "text/x-python",
   "name": "python",
   "nbconvert_exporter": "python",
   "pygments_lexer": "ipython3",
   "version": "3.11.5"
  }
 },
 "nbformat": 4,
 "nbformat_minor": 5
}
